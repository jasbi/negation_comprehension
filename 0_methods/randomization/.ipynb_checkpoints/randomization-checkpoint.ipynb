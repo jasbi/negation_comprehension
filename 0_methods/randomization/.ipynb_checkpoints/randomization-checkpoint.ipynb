{
 "cells": [
  {
   "cell_type": "markdown",
   "metadata": {},
   "source": [
    "This piece of code is supposed to randomize stuff"
   ]
  },
  {
   "cell_type": "code",
   "execution_count": 2,
   "metadata": {},
   "outputs": [],
   "source": [
    "import csv\n",
    "import random\n",
    "import pandas\n",
    "\n",
    "hab_adverbs = ['really','just','indeed','only']\n",
    "test_adverbs = ['not','now']\n",
    "nouns = ['Ball','Duck','Shoe']"
   ]
  },
  {
   "cell_type": "code",
   "execution_count": 50,
   "metadata": {},
   "outputs": [],
   "source": [
    "def randomized_experiment(N):\n",
    "     \n",
    "    trials =[]\n",
    "    \n",
    "    for i in range(0,N):\n",
    "        \n",
    "        hab1=[]\n",
    "        random.shuffle(hab_adverbs)\n",
    "        for i in hab_adverbs:\n",
    "            random.shuffle(nouns)\n",
    "            for j in nouns:\n",
    "                hab1.append(\"\".join([i,j]))\n",
    "\n",
    "        hab2=[]\n",
    "        random.shuffle(hab_adverbs)\n",
    "        for i in hab_adverbs:\n",
    "            random.shuffle(nouns)\n",
    "            for j in nouns:\n",
    "                hab2.append(\"\".join([i,j]))\n",
    "\n",
    "        random.shuffle(test_adverbs)\n",
    "\n",
    "        test1=[]\n",
    "        random.shuffle(nouns)\n",
    "        for i in nouns:\n",
    "            test1.append(\"\".join([test_adverbs[0],i]))\n",
    "            \n",
    "        test2=[]\n",
    "        random.shuffle(nouns)\n",
    "        for i in nouns:\n",
    "            test2.append(\"\".join([test_adverbs[1],i]))\n",
    "        \n",
    "        dbl_trial = [{'test': test1, 'first': hab1, 'post': hab1, 'preTest': test1, 'Hab': ['first', 'post']},\n",
    "                     {'test': test2, 'first': hab2, 'post': hab2, 'preTest': test2, 'Hab': ['first', 'post']}]\n",
    "\n",
    "        trials.extend(dbl_trial)\n",
    "\n",
    "    return trials"
   ]
  },
  {
   "cell_type": "code",
   "execution_count": 51,
   "metadata": {},
   "outputs": [],
   "source": [
    "batch = randomized_experiment(50)"
   ]
  },
  {
   "cell_type": "code",
   "execution_count": 52,
   "metadata": {},
   "outputs": [],
   "source": [
    "with open(\"LOGN2_trials.txt\", 'w') as text_file:\n",
    "    for b in batch:\n",
    "        text_file.write(str(b) + '\\n')"
   ]
  }
 ],
 "metadata": {
  "kernelspec": {
   "display_name": "Python 3",
   "language": "python",
   "name": "python3"
  },
  "language_info": {
   "codemirror_mode": {
    "name": "ipython",
    "version": 3
   },
   "file_extension": ".py",
   "mimetype": "text/x-python",
   "name": "python",
   "nbconvert_exporter": "python",
   "pygments_lexer": "ipython3",
   "version": "3.8.3"
  }
 },
 "nbformat": 4,
 "nbformat_minor": 4
}
