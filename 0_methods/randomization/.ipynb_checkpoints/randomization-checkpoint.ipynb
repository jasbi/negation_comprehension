{
 "cells": [
  {
   "cell_type": "markdown",
   "metadata": {},
   "source": [
    "This piece of code is supposed to randomize stuff"
   ]
  },
  {
   "cell_type": "code",
   "execution_count": 101,
   "metadata": {},
   "outputs": [],
   "source": [
    "import csv\n",
    "import random\n",
    "import pandas\n",
    "\n",
    "hab_adverbs = ['really','just','indeed','only']\n",
    "test_adverbs = ['not','now']\n",
    "nouns = ['Ball','Duck','Shoe']"
   ]
  },
  {
   "cell_type": "code",
   "execution_count": 102,
   "metadata": {},
   "outputs": [],
   "source": [
    "def randomized_experiment(N):\n",
    "     \n",
    "    trials =[]\n",
    "    \n",
    "    for i in range(0,N):\n",
    "        \n",
    "        hab1=[]\n",
    "        random.shuffle(hab_adverbs)\n",
    "        for i in hab_adverbs:\n",
    "            random.shuffle(nouns)\n",
    "            for j in nouns:\n",
    "                hab1.append(\"\".join([i,j]))\n",
    "\n",
    "        hab2=[]\n",
    "        random.shuffle(hab_adverbs)\n",
    "        for i in hab_adverbs:\n",
    "            random.shuffle(nouns)\n",
    "            for j in nouns:\n",
    "                hab2.append(\"\".join([i,j]))\n",
    "\n",
    "        random.shuffle(test_adverbs)\n",
    "\n",
    "        test1=[]\n",
    "        random.shuffle(nouns)\n",
    "        for i in nouns:\n",
    "            test1.append(\"\".join([test_adverbs[0],i]))\n",
    "\n",
    "        test2=[]\n",
    "        random.shuffle(nouns)\n",
    "        for i in nouns:\n",
    "            test2.append(\"\".join([test_adverbs[1],i]))\n",
    "        \n",
    "        dbl_trial = [{'Hab': hab1, 'test': test1}, {'Hab': hab2, 'test': test2}]\n",
    "\n",
    "        trials.extend(dbl_trial)\n",
    "\n",
    "    return trials"
   ]
  },
  {
   "cell_type": "code",
   "execution_count": 110,
   "metadata": {},
   "outputs": [],
   "source": [
    "batch = randomized_experiment(10)"
   ]
  },
  {
   "cell_type": "code",
   "execution_count": 108,
   "metadata": {},
   "outputs": [],
   "source": [
    "with open('output.csv','w') as csv_file:\n",
    "    wr = csv.writer(csv_file)\n",
    "    for element in batch:\n",
    "        wr.writerow(element)"
   ]
  },
  {
   "cell_type": "code",
   "execution_count": 113,
   "metadata": {},
   "outputs": [],
   "source": [
    "with open(\"file.txt\", 'w') as text_file:\n",
    "    for b in batch:\n",
    "        text_file.write(str(b) + '\\n')"
   ]
  },
  {
   "cell_type": "code",
   "execution_count": null,
   "metadata": {},
   "outputs": [],
   "source": []
  }
 ],
 "metadata": {
  "kernelspec": {
   "display_name": "Python 3",
   "language": "python",
   "name": "python3"
  },
  "language_info": {
   "codemirror_mode": {
    "name": "ipython",
    "version": 3
   },
   "file_extension": ".py",
   "mimetype": "text/x-python",
   "name": "python",
   "nbconvert_exporter": "python",
   "pygments_lexer": "ipython3",
   "version": "3.7.4"
  }
 },
 "nbformat": 4,
 "nbformat_minor": 4
}
