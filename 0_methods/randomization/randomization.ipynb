{
 "cells": [
  {
   "cell_type": "markdown",
   "metadata": {},
   "source": [
    "This piece of code is supposed to randomize stuff"
   ]
  },
  {
   "cell_type": "code",
   "execution_count": 1,
   "metadata": {},
   "outputs": [],
   "source": [
    "import csv\n",
    "import random\n",
    "import pandas\n",
    "\n",
    "fam_adverbs = ['really','just','only']\n",
    "test_adverbs = ['not','now']\n",
    "nouns = ['ball','duck','shoe']"
   ]
  },
  {
   "cell_type": "code",
   "execution_count": 2,
   "metadata": {},
   "outputs": [],
   "source": [
    "def randomized_experiment(N):\n",
    "     \n",
    "    trials =[]\n",
    "    \n",
    "    for i in range(0,N):\n",
    "        fam1 = []\n",
    "        # Ensure no repeat trials\n",
    "        while(len(set(fam1)) != 6):  \n",
    "            fam1=[]\n",
    "            for _ in range(2):\n",
    "                random.shuffle(fam_adverbs)\n",
    "                random.shuffle(nouns)\n",
    "                for i in range(3):\n",
    "                    fam1.append(\"_\".join([fam_adverbs[i], nouns[i]]))\n",
    "\n",
    "        fam2=[]\n",
    "        while(len(set(fam2)) != 6):\n",
    "            fam2 = []\n",
    "            for _ in range(2):\n",
    "                random.shuffle(fam_adverbs)\n",
    "                random.shuffle(nouns)\n",
    "                for i in range(3):\n",
    "                    fam2.append(\"_\".join([fam_adverbs[i], nouns[i]]))\n",
    "\n",
    "        random.shuffle(test_adverbs)\n",
    "\n",
    "        test1=[]\n",
    "        random.shuffle(nouns)\n",
    "        for i in nouns:\n",
    "            test1.append(\"_\".join([test_adverbs[0],i]))\n",
    "            \n",
    "        test2=[]\n",
    "        random.shuffle(nouns)\n",
    "        for i in nouns:\n",
    "            test2.append(\"_\".join([test_adverbs[1],i]))\n",
    "        \n",
    "        dbl_trial = [{'soundCheck': [\"soundCheck\"],\n",
    "                      'preFam': [\"_\".join([x, \"short\"]) for x in fam1],\n",
    "                      'fam': [\"_\".join([x, \"long\"]) for x in fam1],\n",
    "                      'preTest': [\"_\".join([x, \"short\"]) for x in test1],\n",
    "                      'test': [\"_\".join([x, \"long\"]) for x in test1]},\n",
    "                     {'soundCheck': [\"soundCheck\"],\n",
    "                      'preFam': [\"_\".join([x, \"short\"]) for x in fam2],\n",
    "                      'fam': [\"_\".join([x, \"long\"]) for x in fam2],\n",
    "                      'preTest': [\"_\".join([x, \"short\"]) for x in test2],\n",
    "                      'test': [\"_\".join([x, \"long\"]) for x in test2]}]\n",
    "\n",
    "        trials.extend(dbl_trial)\n",
    "\n",
    "    return trials"
   ]
  },
  {
   "cell_type": "code",
   "execution_count": 3,
   "metadata": {},
   "outputs": [],
   "source": [
    "batch = randomized_experiment(50)"
   ]
  },
  {
   "cell_type": "code",
   "execution_count": 4,
   "metadata": {},
   "outputs": [],
   "source": [
    "with open(\"LOGN2_trials.txt\", 'w') as text_file:\n",
    "    for b in batch:\n",
    "        text_file.write(str(b) + '\\n')"
   ]
  },
  {
   "cell_type": "code",
   "execution_count": null,
   "metadata": {},
   "outputs": [],
   "source": []
  }
 ],
 "metadata": {
  "kernelspec": {
   "display_name": "Python 3",
   "language": "python",
   "name": "python3"
  },
  "language_info": {
   "codemirror_mode": {
    "name": "ipython",
    "version": 3
   },
   "file_extension": ".py",
   "mimetype": "text/x-python",
   "name": "python",
   "nbconvert_exporter": "python",
   "pygments_lexer": "ipython3",
   "version": "3.8.3"
  }
 },
 "nbformat": 4,
 "nbformat_minor": 4
}
